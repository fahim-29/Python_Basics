{
 "cells": [
  {
   "cell_type": "markdown",
   "id": "e547c00f-0d12-43f6-83b9-8b40b9ad2635",
   "metadata": {
    "tags": []
   },
   "source": [
    "## Python Basics Questions"
   ]
  },
  {
   "cell_type": "markdown",
   "id": "1718d9fc-a6f0-4490-a001-1b8eb1ff2ceb",
   "metadata": {},
   "source": [
    " **1. What is Python, and why is it popular ?**\n",
    "   - Python is a high-level, **open-source** programming language known for its simple syntax and readability.\n",
    "   - It has a large and **active community** that provides support and resources.\n",
    "   - It is used by many top companies like Google, Netflix, and Instagram.\n",
    "   - It offers extensive libraries for web development, data science, AI, automation, and more.\n",
    "   - It supports multiple programming paradigms (procedural, object-oriented, functional).\n",
    "\n",
    "\n",
    "\n",
    "\n",
    "\n",
    " \n",
    "      \n",
    "  \n"
   ]
  },
  {
   "cell_type": "markdown",
   "id": "a270c056-d851-4cbd-8004-53dd44acd401",
   "metadata": {},
   "source": [
    "**2 .What is an interpreter in Python ?**\n",
    " - An interpreter in Python is a program that:\n",
    " - Translates and executes Python code line by line.\n",
    " - Converts high-level Python code into machine-readable instructions at runtime.\n",
    " - Helps in identifying errors quickly, since it runs code one step at a time.\n",
    " - Makes Python platform-independent, as the interpreter handles the execution.\n",
    " "
   ]
  },
  {
   "cell_type": "markdown",
   "id": "94cf0bb6-9962-435d-873a-490c46a95f19",
   "metadata": {},
   "source": [
    "**3. What are pre-defined keywords in Python ?**\n",
    " - Pre-defined keywords are **reserved words** that have special meaning in Python.\n",
    " - They define the syntax and structure of Python programs.\n",
    " - These keywords cannot be used as variable names, function names, or identifiers.(will result in a SyntaxError).\n",
    " - **Examples** : if, else, while, for, def, class, True, False, None, etc.\n",
    "\n",
    "\n",
    "\n",
    "\n",
    "\n",
    " "
   ]
  },
  {
   "cell_type": "markdown",
   "id": "4d61ead8-6f0d-4fe0-b7d7-c5bc18760d02",
   "metadata": {},
   "source": [
    "**4.  Can keywords be used as variable names ?**\n",
    " - **'NO' ,** keywords cannot be used as variable names, function names, or identifiers, Doing so will result in a SyntaxError.\n",
    " "
   ]
  },
  {
   "cell_type": "markdown",
   "id": "bb68df95-84b1-4d4d-bd56-232a3519517a",
   "metadata": {},
   "source": [
    "**5. What is mutability in Python ?**\n",
    " - Objects that can be modified or can be changed after they are created.\n",
    " - example: list"
   ]
  },
  {
   "cell_type": "markdown",
   "id": "aa87b20e-6a87-42e3-8071-849ec0aace7f",
   "metadata": {},
   "source": [
    " **6. Why are lists mutable, but tuples are immutable?**\n",
    "\n",
    " - Lists are mutable because they are meant to be changed and manipulated over time.\n",
    "- Tuples are immutable because they provide a lightweight, fixed collection that ensures data integrity and can be used in contexts that require immutability, like dictionary keys."
   ]
  },
  {
   "cell_type": "markdown",
   "id": "2b18dd78-9290-479b-af52-a979a73de3e1",
   "metadata": {
    "tags": []
   },
   "source": [
    "**7. What is the difference between “==” and “is” operators in Python?**\n",
    " - The == operator checks if values are equal, So, == compares content\n",
    " - While the **is** operator checks if both variables refer to the exact same object in memory. So, == compares content, and is compares identity.\n",
    " \n",
    " **Example**\n",
    " \n",
    "- a = [1, 2, 3]\n",
    "- b = [1, 2, 3]\n",
    "- c = a\n",
    "- print(a == b)   # True  → same content\n",
    "- print(a is b)   # False → different objects in memory\n",
    "- print(a is c)   # True  → both point to the same object\n",
    "\n",
    " \n",
    "\n"
   ]
  },
  {
   "cell_type": "markdown",
   "id": "9241daa2-fad2-435b-93f6-31514b2965af",
   "metadata": {
    "tags": []
   },
   "source": [
    "**8 What are logical operators in Python?**\n",
    "- **and** – Returns **True** if both conditions are true.\n",
    "\n",
    "-  **or** – Returns **True** if at least one condition is true.\n",
    "\n",
    "- **not** – Reverses the truth value (True becomes False, and vice versa)\n",
    "\n"
   ]
  },
  {
   "cell_type": "markdown",
   "id": "566b1ab5-f624-4f86-aa4f-893259eec551",
   "metadata": {
    "tags": []
   },
   "source": [
    "**9. What is type casting in Python?** \n",
    "- **Type casting** is the process of converting a value from one data type to another, such as from a string to an integer, or from an integer to a float.\n",
    "- int(\"5\") → Converts a string to an integer.\n",
    "- float(10) → Converts an integer to a float.\n",
    "- str(3.14) → Converts a float to a string."
   ]
  },
  {
   "cell_type": "markdown",
   "id": "14abdc15-2505-427f-9ecf-3c4833b21536",
   "metadata": {},
   "source": [
    " **10. What is the difference between implicit and explicit type casting?**\n",
    " \n",
    " **Implicit Type Casting**\n",
    "- It automatically converts one data type to another without your intervention.\n",
    "- Example: x = 5 + 3.0 → x becomes 8.0 (int + float → float).\n",
    " \n",
    " **Explicit Type Casting**\n",
    "- It manually converts a data type using functions like int(), float(), or str().\n",
    "- Example: x = int(\"10\") → Converts string \"10\" to integer 10"
   ]
  },
  {
   "cell_type": "markdown",
   "id": "92c476cb-1134-47ee-89b0-26ed811b6a86",
   "metadata": {},
   "source": [
    "**11. What is the purpose of conditional statements in Python?**\n",
    "- The purpose of conditional statements is to allow the program to make decisions and execute certain blocks of code only when specific **conditions are met**\n",
    "- They help control the flow of the program using if, elif, and else."
   ]
  },
  {
   "cell_type": "markdown",
   "id": "39de7408-8656-4b5e-8a1d-3fda16be3593",
   "metadata": {},
   "source": [
    "**12. How does the elif statement work?**\n",
    "- The elif statement is used to check multiple conditions after an initial if. It runs only if the previous conditions are false, and stops checking once a true condition is found.\n",
    "- Only one block is executed—even if multiple conditions are true\n",
    "- It runs the code from Top to Bottom."
   ]
  },
  {
   "cell_type": "markdown",
   "id": "e635bae3-92ba-435d-a4c9-14fd91fa230c",
   "metadata": {},
   "source": [
    "**13. What is the difference between for and while loops?**\n",
    "\n",
    "\n",
    "**for loop:**\n",
    "\n",
    "- Used when you know in advance how many times to iterate.\n",
    "\n",
    "- Iterates over sequences (like lists, strings, or ranges).\n",
    "\n",
    "- Example: for i in range(5):\n",
    "\n",
    "**while loop:**\n",
    "\n",
    "- Used when you want to loop until a condition becomes false.\n",
    "\n",
    "- Ideal for unknown or variable-length iterations.\n",
    "\n",
    "- Example: while x < 5:"
   ]
  },
  {
   "cell_type": "markdown",
   "id": "69b3ed15-7605-43bf-841b-ac49a3e925c6",
   "metadata": {},
   "source": [
    "**14. Describe a scenario where a while loop is more suitable than a for loop?**\n",
    " - **While loop** is more suitable when you don't know in advance how many times you'll need to repeat the loop—such as when waiting for a user to enter valid input.\n",
    " - A while loop is used to repeat a block of code as long as a condition is true.\n",
    "- The condition is checked before each loop.\n",
    "- If it's True, the code inside the loop runs.\n",
    "- If it's False, the loop stops.\n",
    "\n"
   ]
  },
  {
   "cell_type": "code",
   "execution_count": null,
   "id": "ade72121-4e1b-4160-af69-f079ef019f76",
   "metadata": {},
   "outputs": [],
   "source": []
  },
  {
   "cell_type": "code",
   "execution_count": null,
   "id": "d61b21aa-78a0-441a-b3b3-5077c7cebecd",
   "metadata": {},
   "outputs": [],
   "source": []
  },
  {
   "cell_type": "markdown",
   "id": "7234d52b-5cc6-45a0-8dea-ff2452826012",
   "metadata": {},
   "source": [
    "# Practical Questions"
   ]
  },
  {
   "cell_type": "markdown",
   "id": "4e1330de-4c40-4c91-ba49-cc6de7aa4a99",
   "metadata": {},
   "source": [
    "#### 1. Write a Python program to print \"Hello, World!\n",
    "   "
   ]
  },
  {
   "cell_type": "code",
   "execution_count": 1,
   "id": "cbac0c05-b185-4abe-b7ab-e7f1f929538e",
   "metadata": {
    "tags": []
   },
   "outputs": [
    {
     "name": "stdout",
     "output_type": "stream",
     "text": [
      "Hello World\n"
     ]
    }
   ],
   "source": [
    "my_first_code = 'Hello World'\n",
    "print(my_first_code)"
   ]
  },
  {
   "cell_type": "markdown",
   "id": "183ff099-5637-4eb4-ba03-6558c7410e4f",
   "metadata": {},
   "source": [
    "#### 2. Write a Python program that displays your name and age\n"
   ]
  },
  {
   "cell_type": "code",
   "execution_count": 2,
   "id": "29e6220b-7f7a-46da-bfe5-02e578de5c30",
   "metadata": {
    "tags": []
   },
   "outputs": [
    {
     "name": "stdout",
     "output_type": "stream",
     "text": [
      "My name is Fahim Ahmad  And I am 25\n"
     ]
    }
   ],
   "source": [
    "Name= 'Fahim Ahmad'\n",
    "Age= 25\n",
    "print(\"My name is\", Name,' And I am',Age)"
   ]
  },
  {
   "cell_type": "markdown",
   "id": "807a5b9b-aed9-40f0-9bb3-17e5f3747edb",
   "metadata": {},
   "source": [
    "#### 3. Write code to print all the pre-defined keywords in Python using the keyword library8"
   ]
  },
  {
   "cell_type": "code",
   "execution_count": 136,
   "id": "eac78b9c-30fe-4d23-bc79-d9a3fedc7ebd",
   "metadata": {
    "tags": []
   },
   "outputs": [
    {
     "name": "stdout",
     "output_type": "stream",
     "text": [
      "False, None, True, and, as, assert, async, await, break, class, continue, def, del, elif, else, except, finally, for, from, global, if, import, in, is, lambda, nonlocal, not, or, pass, raise, return, try, while, with, yield, "
     ]
    }
   ],
   "source": [
    "import keyword as k\n",
    "python_keywords = k.kwlist\n",
    "for kw in python_keywords:\n",
    "    print(kw, end=\", \")\n",
    "\n"
   ]
  },
  {
   "cell_type": "markdown",
   "id": "a6115592-69dd-4694-8d3c-2735f520c03c",
   "metadata": {},
   "source": [
    " #### 4. Write a program that checks if a given word is a Python keyword"
   ]
  },
  {
   "cell_type": "code",
   "execution_count": 62,
   "id": "81f6d124-d677-44f3-b3b4-4829478660a1",
   "metadata": {
    "tags": []
   },
   "outputs": [
    {
     "name": "stdin",
     "output_type": "stream",
     "text": [
      "Enter a Python Keyword break\n"
     ]
    },
    {
     "name": "stdout",
     "output_type": "stream",
     "text": [
      "break is a python keyword\n"
     ]
    }
   ],
   "source": [
    "import keyword as k\n",
    "\n",
    "a = input(\"Enter a Python Keyword\")\n",
    "if k.iskeyword(a):\n",
    "    \n",
    "    print(a,\"is a python keyword\")\n",
    "else:\n",
    "    print(a,\"is not python keyword\")"
   ]
  },
  {
   "cell_type": "code",
   "execution_count": null,
   "id": "508ff35b-17c6-4f31-867f-134571b29ac1",
   "metadata": {
    "tags": []
   },
   "outputs": [],
   "source": []
  },
  {
   "cell_type": "markdown",
   "id": "84f94a46-1f8f-4297-81ed-695b6290f487",
   "metadata": {},
   "source": [
    "#### 5. Create a list and tuple in Python, and demonstrate how attempting to change an element works differently for each"
   ]
  },
  {
   "cell_type": "code",
   "execution_count": 5,
   "id": "7f598ddb-522d-42a9-945a-83fc293e3a5a",
   "metadata": {
    "tags": []
   },
   "outputs": [
    {
     "data": {
      "text/plain": [
       "['Fahim', 'Ahmad', 24, 5.7, True, 'Pune']"
      ]
     },
     "execution_count": 5,
     "metadata": {},
     "output_type": "execute_result"
    }
   ],
   "source": [
    "list = [\"Fahim\", \"Ahmad\", 24, 5.7, True, 'Pune']\n",
    "list"
   ]
  },
  {
   "cell_type": "code",
   "execution_count": 6,
   "id": "87b137d9-5e22-4499-a983-bbf6c597f2e7",
   "metadata": {
    "tags": []
   },
   "outputs": [],
   "source": [
    "list[-1]= \"Mumbai\" # Replacing last element of the list "
   ]
  },
  {
   "cell_type": "code",
   "execution_count": 7,
   "id": "59b26561-2578-4ba9-9e74-c8a2b952fc5f",
   "metadata": {
    "tags": []
   },
   "outputs": [
    {
     "data": {
      "text/plain": [
       "['Fahim', 'Ahmad', 24, 5.7, True, 'Mumbai']"
      ]
     },
     "execution_count": 7,
     "metadata": {},
     "output_type": "execute_result"
    }
   ],
   "source": [
    "list  # the last elemnt of the list is replaced , which shows that ,list is a mutable object "
   ]
  },
  {
   "cell_type": "code",
   "execution_count": 71,
   "id": "e5d83e6d-41f4-4da8-a06b-6c1375ef24b3",
   "metadata": {
    "tags": []
   },
   "outputs": [
    {
     "data": {
      "text/plain": [
       "('Fahim', 'Ahmad', 24, 5.7, True, 'Pune')"
      ]
     },
     "execution_count": 71,
     "metadata": {},
     "output_type": "execute_result"
    }
   ],
   "source": [
    "Tuple = (\"Fahim\", \"Ahmad\", 24, 5.7, True, 'Pune')\n",
    "type(Tuple)\n",
    "Tuple\n"
   ]
  },
  {
   "cell_type": "code",
   "execution_count": 9,
   "id": "c7bb963d-f309-4d6e-9445-f76188216f2a",
   "metadata": {
    "tags": []
   },
   "outputs": [
    {
     "ename": "TypeError",
     "evalue": "'tuple' object does not support item assignment",
     "output_type": "error",
     "traceback": [
      "\u001b[0;31m---------------------------------------------------------------------------\u001b[0m",
      "\u001b[0;31mTypeError\u001b[0m                                 Traceback (most recent call last)",
      "Cell \u001b[0;32mIn[9], line 1\u001b[0m\n\u001b[0;32m----> 1\u001b[0m Tuple[\u001b[38;5;241m-\u001b[39m\u001b[38;5;241m1\u001b[39m] \u001b[38;5;241m=\u001b[39m \u001b[38;5;124m'\u001b[39m\u001b[38;5;124mMumbai\u001b[39m\u001b[38;5;124m'\u001b[39m\n",
      "\u001b[0;31mTypeError\u001b[0m: 'tuple' object does not support item assignment"
     ]
    }
   ],
   "source": [
    "Tuple[-1] = 'Mumbai'   # This operation cannot be done because tuple is a immutable object( can't be change or modify \n",
    "                      # hence , it will throw an error     \n",
    "\n",
    "                                    "
   ]
  },
  {
   "cell_type": "code",
   "execution_count": null,
   "id": "88d5e43c-258e-4bfe-8958-e04ebf9ac544",
   "metadata": {
    "tags": []
   },
   "outputs": [],
   "source": []
  },
  {
   "cell_type": "code",
   "execution_count": null,
   "id": "c6c351c9-f128-469a-a52a-6c2b3929066c",
   "metadata": {},
   "outputs": [],
   "source": []
  },
  {
   "cell_type": "markdown",
   "id": "f2843c21-d823-4cb7-a875-db6921f25ef6",
   "metadata": {
    "tags": []
   },
   "source": [
    "#### 7. Write a program that performs basic arithmetic operations on two user-input numbers."
   ]
  },
  {
   "cell_type": "code",
   "execution_count": 47,
   "id": "2dda57ca-3e02-4484-a312-7bca958b6cf6",
   "metadata": {
    "tags": []
   },
   "outputs": [
    {
     "name": "stdin",
     "output_type": "stream",
     "text": [
      "Enter a number 24\n",
      "Enter an another nubet 5\n"
     ]
    },
    {
     "name": "stdout",
     "output_type": "stream",
     "text": [
      "\n",
      "\n",
      "Addition: 29.0\n",
      "Substraction: 19.0\n",
      "Multiplicatio: 120.0\n",
      "Division: 4.8\n",
      "Exponential: 7962624.0\n",
      "Floor Div: 4.0\n",
      "Module: 4.0\n"
     ]
    }
   ],
   "source": [
    "a = float(input(\"Enter a number\"))\n",
    "b = float(input(\"Enter an another nubet\"))\n",
    "\n",
    "# Arithmetic operations\n",
    "              \n",
    "addition = a+b\n",
    "subtraction = a-b\n",
    "multiplication = a*b\n",
    "division = a/b\n",
    "exponential= a**b\n",
    "floor_div = a//b\n",
    "module = a % b\n",
    "\n",
    "print(\"\\n\")\n",
    "\n",
    "print(\"Addition:\", addition)\n",
    "print(\"Substraction:\", subtraction)\n",
    "print(\"Multiplicatio:\", multiplication)\n",
    "print(\"Division:\", division)\n",
    "print(\"Exponential:\", exponential)\n",
    "print(\"Floor Div:\" ,floor_div)\n",
    "print(\"Module:\", module)\n",
    "\n"
   ]
  },
  {
   "cell_type": "markdown",
   "id": "f66faafc-786d-48e8-a45a-c54e31727fe9",
   "metadata": {},
   "source": [
    "#### 8. Write a program to demonstrate the use of logical operators."
   ]
  },
  {
   "cell_type": "code",
   "execution_count": 127,
   "id": "69bd6e73-b0dc-4ee0-91aa-35e291a9b805",
   "metadata": {
    "tags": []
   },
   "outputs": [
    {
     "name": "stdout",
     "output_type": "stream",
     "text": [
      "The Person is Eligible to drive on Highways\n",
      "The Person  can locally drive not highways\n"
     ]
    }
   ],
   "source": [
    "age = 18\n",
    "License = \"2/4 wheller Driving License\"\n",
    "\n",
    "# And condition\n",
    "\n",
    "if (age >= 18) and (License == \"2/4 wheller Driving License\"):\n",
    "    print(\"The Person is Eligible to drive on Highways\")\n",
    "    \n",
    " # or Condition\n",
    "\n",
    "if (age >= 18) or (License == \"Driving Licence\"):\n",
    "    print(\"The Person  can locally drive not highways\")\n",
    "    \n",
    "    \n",
    "    "
   ]
  },
  {
   "cell_type": "code",
   "execution_count": null,
   "id": "ccb4e258-f232-4f2f-a687-eee01d77e28a",
   "metadata": {},
   "outputs": [],
   "source": []
  },
  {
   "cell_type": "markdown",
   "id": "56a4630e-2591-4eea-9f4a-63829e0e8e3c",
   "metadata": {},
   "source": [
    "#### 9. Write a Python program to convert user input from string to integer, float, and boolean types"
   ]
  },
  {
   "cell_type": "code",
   "execution_count": 104,
   "id": "5e26f484-8994-4873-b0e5-682dbe8b8694",
   "metadata": {
    "tags": []
   },
   "outputs": [
    {
     "name": "stdin",
     "output_type": "stream",
     "text": [
      "Enter a Number 21\n"
     ]
    },
    {
     "name": "stdout",
     "output_type": "stream",
     "text": [
      "Integer: 21\n",
      "Float: 21.0\n",
      "Boolean: 21\n"
     ]
    }
   ],
   "source": [
    "a= input(\"Enter a Number\")\n",
    "\n",
    "int_number = int(a)\n",
    "print(\"Integer:\", int_number)\n",
    "\n",
    "f_number = float(a)\n",
    "print(\"Float:\",f_number)\n",
    "\n",
    "Bool_value = bool(a)\n",
    "print(\"Boolean:\",a)\n",
    "    "
   ]
  },
  {
   "cell_type": "markdown",
   "id": "a4a9dab1-98a5-48be-bf9d-821f05dd7445",
   "metadata": {
    "tags": []
   },
   "source": [
    "#### 10. Write code to demonstrate type casting with list elements."
   ]
  },
  {
   "cell_type": "code",
   "execution_count": 117,
   "id": "b9e1d670-c0b5-49ee-9297-9b124c795fd9",
   "metadata": {
    "tags": []
   },
   "outputs": [
    {
     "name": "stdout",
     "output_type": "stream",
     "text": [
      "Integer List: [10, 20, 30, 40, 50]\n",
      "Float List: [10.0, 20.0, 30.0, 40.0, 50.0]\n",
      "Boolean List: [True, True, True, True, True]\n"
     ]
    }
   ],
   "source": [
    "\n",
    "list = [\"10\", \"20\", \"30\", \"40\", \"50\"]\n",
    "\n",
    "\n",
    "int_list = [int(item) for item in str_list]\n",
    "print(\"Integer List:\", int_list)\n",
    "\n",
    "\n",
    "float_list = [float(item) for item in str_list]\n",
    "print(\"Float List:\", float_list)\n",
    "\n",
    "\n",
    "bool_list = [bool(item) for item in str_list]\n",
    "print(\"Boolean List:\", bool_list)\n"
   ]
  },
  {
   "cell_type": "code",
   "execution_count": null,
   "id": "db6a792a-1e17-497c-9f16-d91128821081",
   "metadata": {},
   "outputs": [],
   "source": []
  },
  {
   "cell_type": "markdown",
   "id": "3c6cdad7-36cf-4181-9dc7-1df548c188c8",
   "metadata": {
    "tags": []
   },
   "source": [
    "#### 11.  Write a program that checks if a number is positive, negative, or zero"
   ]
  },
  {
   "cell_type": "code",
   "execution_count": 81,
   "id": "451c04b9-1c0f-4441-87ec-3e10ff7a6d97",
   "metadata": {
    "tags": []
   },
   "outputs": [
    {
     "name": "stdin",
     "output_type": "stream",
     "text": [
      "Enter a Number -2\n"
     ]
    },
    {
     "name": "stdout",
     "output_type": "stream",
     "text": [
      "The Number is Negative\n"
     ]
    }
   ],
   "source": [
    "a = float(input(\"Enter a Number\"))\n",
    "if a > 0:\n",
    "    print(\"The Number is Positive\")\n",
    "elif a < 0:\n",
    "    print(\"The Number is Negative\")\n",
    "else:\n",
    "    print(\"The Number is Zero\")\n",
    "        "
   ]
  },
  {
   "cell_type": "markdown",
   "id": "693ac316-f779-42e2-b350-5e2444a6f998",
   "metadata": {},
   "source": [
    "#### 12. Write a for loop to print numbers from 1 to 10."
   ]
  },
  {
   "cell_type": "code",
   "execution_count": 143,
   "id": "badf55da-d370-4f75-89cc-efd7679b0a76",
   "metadata": {
    "tags": []
   },
   "outputs": [
    {
     "name": "stdout",
     "output_type": "stream",
     "text": [
      "0, 1, 2, 3, 4, 5, 6, 7, 8, 9, 10, "
     ]
    }
   ],
   "source": [
    "num= range(11)\n",
    "for i in num:\n",
    "    print(i,end=\", \")"
   ]
  },
  {
   "cell_type": "markdown",
   "id": "e2b23df4-f36e-41f7-ac08-eae4c30f93f6",
   "metadata": {},
   "source": [
    "#### 13 Write a Python program to find the sum of all even numbers between 1 and 50"
   ]
  },
  {
   "cell_type": "code",
   "execution_count": 175,
   "id": "5c18e519-22dd-4bb3-8e57-27c75f76f32f",
   "metadata": {
    "tags": []
   },
   "outputs": [
    {
     "name": "stdout",
     "output_type": "stream",
     "text": [
      "Sum of even numbers from 1 to 50 is: 650\n"
     ]
    }
   ],
   "source": [
    "a=range(1, 51)\n",
    "even_sum = 0\n",
    "\n",
    "for number in a:\n",
    "    if number % 2 == 0:\n",
    "        even_sum += number\n",
    "\n",
    "print(\"Sum of even numbers from 1 to 50 is:\", even_sum)\n"
   ]
  },
  {
   "cell_type": "markdown",
   "id": "c1e7a980-6d04-4c34-aa12-887d21235ce7",
   "metadata": {},
   "source": [
    "#### 14. Write a program to reverse a string using a while loop."
   ]
  },
  {
   "cell_type": "code",
   "execution_count": 174,
   "id": "8cc1019d-f398-4b06-9369-27cf74a147af",
   "metadata": {
    "tags": []
   },
   "outputs": [
    {
     "name": "stdin",
     "output_type": "stream",
     "text": [
      "Enter a string:  Fahim Ahmad\n"
     ]
    },
    {
     "name": "stdout",
     "output_type": "stream",
     "text": [
      "Reversed string: damhA mihaF\n"
     ]
    }
   ],
   "source": [
    "a = input(\"Enter a string: \")\n",
    "\n",
    "reversed_str = \"\"\n",
    "index = len(a) - 1\n",
    "\n",
    "while index >= 0:\n",
    "    reversed_str += a[index]\n",
    "    index -= 1\n",
    "\n",
    "print(\"Reversed string:\", reversed_str)\n"
   ]
  },
  {
   "cell_type": "markdown",
   "id": "bf69e3c7-d36e-443d-bffc-e69cfba4206f",
   "metadata": {
    "tags": []
   },
   "source": [
    "#### 15. Write a Python program to calculate the factorial of a number provided by the user using a while loop"
   ]
  },
  {
   "cell_type": "code",
   "execution_count": 185,
   "id": "d2fbb7b3-9152-4ceb-beec-175798ba3757",
   "metadata": {
    "tags": []
   },
   "outputs": [
    {
     "name": "stdin",
     "output_type": "stream",
     "text": [
      "Enter a number:  4\n"
     ]
    },
    {
     "name": "stdout",
     "output_type": "stream",
     "text": [
      "The factorial of 4 is: 24\n"
     ]
    }
   ],
   "source": [
    "\n",
    "a= int(input(\"Enter a number: \"))\n",
    "\n",
    "factorial = 1\n",
    "i = 1\n",
    "\n",
    "\n",
    "while i <= a:\n",
    "    factorial *= i\n",
    "    i += 1\n",
    "\n",
    "print(f\"The factorial of {a} is: {factorial}\")\n"
   ]
  },
  {
   "cell_type": "code",
   "execution_count": null,
   "id": "09748659-a29c-41f7-93d4-c52bf1a1f2b4",
   "metadata": {},
   "outputs": [],
   "source": []
  }
 ],
 "metadata": {
  "kernelspec": {
   "display_name": "Python 3 (ipykernel)",
   "language": "python",
   "name": "python3"
  },
  "language_info": {
   "codemirror_mode": {
    "name": "ipython",
    "version": 3
   },
   "file_extension": ".py",
   "mimetype": "text/x-python",
   "name": "python",
   "nbconvert_exporter": "python",
   "pygments_lexer": "ipython3",
   "version": "3.11.4"
  }
 },
 "nbformat": 4,
 "nbformat_minor": 5
}
